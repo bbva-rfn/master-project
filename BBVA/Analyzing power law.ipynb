{
 "cells": [
  {
   "cell_type": "code",
   "execution_count": 4,
   "metadata": {},
   "outputs": [],
   "source": [
    "import networkx\n",
    "import numpy as np\n",
    "import matplotlib.pyplot as plt\n",
    "import pickle\n",
    "import operator"
   ]
  },
  {
   "cell_type": "code",
   "execution_count": 2,
   "metadata": {},
   "outputs": [],
   "source": [
    "graph = pickle.load(open('bbva.pickle', 'rb'))\n",
    "graphb = pickle.load(open('../BA/graph_ba.pickle', 'rb'))\n",
    "graph_er = pickle.load(open('../ER/graph_er.pickle', 'rb'))"
   ]
  },
  {
   "cell_type": "code",
   "execution_count": 5,
   "metadata": {},
   "outputs": [
    {
     "data": {
      "text/plain": [
       "{0: 196, 7: 182, 2: 142}"
      ]
     },
     "execution_count": 5,
     "metadata": {},
     "output_type": "execute_result"
    }
   ],
   "source": [
    "dict(sorted(graphb.degree, key=operator.itemgetter(1), reverse=True)[:3])"
   ]
  },
  {
   "cell_type": "code",
   "execution_count": 6,
   "metadata": {},
   "outputs": [
    {
     "data": {
      "text/plain": [
       "{871: 25, 899: 24, 497: 24}"
      ]
     },
     "execution_count": 6,
     "metadata": {},
     "output_type": "execute_result"
    }
   ],
   "source": [
    "dict(sorted(graph_er.degree, key=operator.itemgetter(1), reverse=True)[:3])"
   ]
  },
  {
   "cell_type": "code",
   "execution_count": 23,
   "metadata": {},
   "outputs": [
    {
     "data": {
      "text/plain": [
       "{1: 82, 2: 81, 0: 76}"
      ]
     },
     "execution_count": 23,
     "metadata": {},
     "output_type": "execute_result"
    }
   ],
   "source": [
    "dict(sorted(graph.degree, key=operator.itemgetter(1), reverse=True)[:3])"
   ]
  },
  {
   "cell_type": "code",
   "execution_count": 12,
   "metadata": {},
   "outputs": [
    {
     "name": "stdout",
     "output_type": "stream",
     "text": [
      "25\n",
      "28\n",
      "67\n",
      "70\n",
      "20\n",
      "51\n",
      "93\n",
      "40\n",
      "74\n",
      "165\n"
     ]
    }
   ],
   "source": [
    "for node in graphb.nodes:\n",
    "    if graphb.degree[node]==26:\n",
    "        print(node)"
   ]
  },
  {
   "cell_type": "code",
   "execution_count": null,
   "metadata": {},
   "outputs": [],
   "source": [
    "ba_bc = networkx.betweenness_centrality(graphb)\n",
    "er_bc = networkx.betweenness_centrality(graph_er)\n",
    "bbva_er = networkx.betweenness_centrality(graph)"
   ]
  },
  {
   "cell_type": "code",
   "execution_count": 21,
   "metadata": {},
   "outputs": [
    {
     "data": {
      "text/plain": [
       "(0, 0.16363034465803106)"
      ]
     },
     "execution_count": 21,
     "metadata": {},
     "output_type": "execute_result"
    }
   ],
   "source": [
    "max(ba_bc, key=ba_bc.get),ba_bc[max(ba_bc, key=ba_bc.get)]"
   ]
  },
  {
   "cell_type": "code",
   "execution_count": 22,
   "metadata": {},
   "outputs": [
    {
     "data": {
      "text/plain": [
       "(871, 0.011709814645292823)"
      ]
     },
     "execution_count": 22,
     "metadata": {},
     "output_type": "execute_result"
    }
   ],
   "source": [
    "max(er_bc, key=er_bc.get),er_bc[max(er_bc, key=er_bc.get)]"
   ]
  },
  {
   "cell_type": "code",
   "execution_count": null,
   "metadata": {},
   "outputs": [],
   "source": [
    "max(bbva_er, key=bbva_er.get),bbva_er[max(bbva_er, key=bbva_er.get)]"
   ]
  },
  {
   "cell_type": "code",
   "execution_count": 125,
   "metadata": {},
   "outputs": [],
   "source": [
    "aux_a = []\n",
    "aux_b = []\n",
    "\n",
    "for i in range(len(prob)):\n",
    "    if prob[i] !=0:\n",
    "        aux_a.append(prob[i])\n",
    "        aux_b.append(mean_value_interval[i])\n",
    "        \n",
    "\n",
    "    "
   ]
  },
  {
   "cell_type": "code",
   "execution_count": 128,
   "metadata": {},
   "outputs": [
    {
     "data": {
      "text/plain": [
       "array([-2.48926851,  1.60216435])"
      ]
     },
     "execution_count": 128,
     "metadata": {},
     "output_type": "execute_result"
    }
   ],
   "source": [
    "soll = np.polyfit(np.log(aux_b),np.log(aux_a),1)\n",
    "soll"
   ]
  },
  {
   "cell_type": "code",
   "execution_count": 135,
   "metadata": {
    "scrolled": true
   },
   "outputs": [
    {
     "data": {
      "image/png": "[encoded data removed]",
      "text/plain": [
       "<Figure size 504x576 with 1 Axes>"
      ]
     },
     "metadata": {},
     "output_type": "display_data"
    }
   ],
   "source": [
    "degr = [val for (node, val) in graph.degree()]\n",
    "prob = []\n",
    "mean_value_interval = []\n",
    "for k in range(0,75):\n",
    "    p = 0\n",
    "    for d in degr:\n",
    "        if 1.05**k < d and d < 1.05**(k+1):\n",
    "            p+=1\n",
    "    p = 1/n * p\n",
    "    prob.append(p)\n",
    "    aux = (1.05**k-1.05**(k+1))/(np.log(1.05**k)-np.log(1.05**(k+1)))\n",
    "    mean_value_interval.append(aux)\n",
    "    \n",
    "plt.figure(figsize=(7,8))\n",
    "plt.xscale('log')\n",
    "plt.yscale('log')\n",
    "plt.scatter(mean_value_interval,prob,marker='o',c = 'b')\n",
    "#plt.plot(powerlaw(np.arange(1,max(degrees)),*sol1[0]))\n",
    "plt.ylim(10**(-5))\n",
    "plt.xlim(1,10**(2))\n",
    "plt.xlabel('k')\n",
    "plt.ylabel('P(k)')\n",
    "plt.title('K, gamma %s'%round(soll[0],2))\n",
    "plt.savefig('metabbva-dd.png')\n",
    "plt.show()\n",
    "    "
   ]
  },
  {
   "cell_type": "code",
   "execution_count": 120,
   "metadata": {},
   "outputs": [
    {
     "data": {
      "image/png": "[encoded data removed]",
      "text/plain": [
       "<Figure size 432x288 with 1 Axes>"
      ]
     },
     "metadata": {},
     "output_type": "display_data"
    }
   ],
   "source": [
    "degr = [val for (node, val) in graphb.degree()]\n",
    "prob = []\n",
    "mean_value_interval = []\n",
    "for k in range(0,75):\n",
    "    p = 0\n",
    "    for d in degr:\n",
    "        if 1.05**k < d and d < 1.05**(k+1):\n",
    "            p+=1\n",
    "    p = 1/n * p\n",
    "    prob.append(p)\n",
    "    aux = (1.05**k-1.05**(k+1))/(np.log(1.05**k)-np.log(1.05**(k+1)))\n",
    "    mean_value_interval.append(aux)\n",
    "    \n",
    "plt.figure()\n",
    "plt.xscale('log')\n",
    "plt.yscale('log')\n",
    "plt.scatter(mean_value_interval,prob,marker='o',c = 'b')\n",
    "#plt.plot(powerlaw(np.arange(1,max(degrees)),*sol1[0]))\n",
    "plt.ylim(10**(-4))\n",
    "plt.xlim(1,10**(2))\n",
    "plt.xlabel('k')\n",
    "plt.ylabel('P(k)')\n",
    "plt.title('K')\n",
    "plt.show()"
   ]
  },
  {
   "cell_type": "code",
   "execution_count": 121,
   "metadata": {},
   "outputs": [],
   "source": [
    "aux_a = []\n",
    "aux_b = []\n",
    "\n",
    "for i in range(len(prob)):\n",
    "    if prob[i] !=0:\n",
    "        aux_a.append(prob[i])\n",
    "        aux_b.append(mean_value_interval[i])"
   ]
  },
  {
   "cell_type": "code",
   "execution_count": 123,
   "metadata": {},
   "outputs": [
    {
     "data": {
      "text/plain": [
       "array([-2.59255853,  1.46567716])"
      ]
     },
     "execution_count": 123,
     "metadata": {},
     "output_type": "execute_result"
    }
   ],
   "source": [
    "np.polyfit(np.log(aux_b),np.log(aux_a),1)"
   ]
  },
  {
   "cell_type": "markdown",
   "metadata": {},
   "source": [
    "# Hubs selection"
   ]
  },
  {
   "cell_type": "code",
   "execution_count": null,
   "metadata": {},
   "outputs": [],
   "source": [
    "#Hubs are really bad placed in our network need to create a new one"
   ]
  },
  {
   "cell_type": "code",
   "execution_count": 3,
   "metadata": {},
   "outputs": [],
   "source": [
    "#hubs_rank = [17,14,13,11,2,6,1,12,5,9,10,8,3,15,7,4,16]"
   ]
  },
  {
   "cell_type": "code",
   "execution_count": 28,
   "metadata": {},
   "outputs": [],
   "source": [
    "hubs_rank = [6,4,12,15,8,5,14,11,9,10,3,7,2,1,13,16,0]"
   ]
  },
  {
   "cell_type": "code",
   "execution_count": 8,
   "metadata": {},
   "outputs": [
    {
     "data": {
      "text/plain": [
       "(0, 196)"
      ]
     },
     "execution_count": 8,
     "metadata": {},
     "output_type": "execute_result"
    }
   ],
   "source": [
    "import operator\n",
    "max(graphb.degree,key=operator.itemgetter(1))"
   ]
  },
  {
   "cell_type": "code",
   "execution_count": 36,
   "metadata": {},
   "outputs": [],
   "source": [
    "higher5 = dict(sorted(graphb.degree, key=operator.itemgetter(1), reverse=True)[:5])"
   ]
  },
  {
   "cell_type": "code",
   "execution_count": 37,
   "metadata": {},
   "outputs": [
    {
     "data": {
      "text/plain": [
       "{0: 196, 7: 182, 2: 142, 3: 134, 4: 130}"
      ]
     },
     "execution_count": 37,
     "metadata": {},
     "output_type": "execute_result"
    }
   ],
   "source": [
    "higher5"
   ]
  },
  {
   "cell_type": "code",
   "execution_count": 38,
   "metadata": {},
   "outputs": [],
   "source": [
    "j = 0\n",
    "for node in higher5:\n",
    "    graphb.nodes[node]['sector']=j\n",
    "    j+=1"
   ]
  },
  {
   "cell_type": "code",
   "execution_count": 39,
   "metadata": {},
   "outputs": [],
   "source": [
    "pickle.dump(graphb, open('Barabasi-with-sectors.pickle', 'wb'))"
   ]
  },
  {
   "cell_type": "markdown",
   "metadata": {},
   "source": [
    "# Creation new one"
   ]
  },
  {
   "cell_type": "code",
   "execution_count": 31,
   "metadata": {},
   "outputs": [],
   "source": [
    "new_ba = networkx.barabasi_albert_graph(10000,2)"
   ]
  },
  {
   "cell_type": "code",
   "execution_count": 32,
   "metadata": {},
   "outputs": [],
   "source": [
    "higher17 = dict(sorted(new_ba.degree, key=operator.itemgetter(1), reverse=True)[:17])"
   ]
  },
  {
   "cell_type": "code",
   "execution_count": 34,
   "metadata": {},
   "outputs": [
    {
     "data": {
      "text/plain": [
       "{1: 224,\n",
       " 5: 192,\n",
       " 2: 190,\n",
       " 6: 155,\n",
       " 7: 153,\n",
       " 3: 124,\n",
       " 11: 111,\n",
       " 25: 100,\n",
       " 42: 84,\n",
       " 10: 83,\n",
       " 29: 80,\n",
       " 59: 69,\n",
       " 43: 66,\n",
       " 82: 65,\n",
       " 147: 64,\n",
       " 19: 60,\n",
       " 69: 60}"
      ]
     },
     "execution_count": 34,
     "metadata": {},
     "output_type": "execute_result"
    }
   ],
   "source": [
    "higher17"
   ]
  },
  {
   "cell_type": "code",
   "execution_count": 33,
   "metadata": {},
   "outputs": [],
   "source": [
    "j = 0\n",
    "for node in higher17:\n",
    "    new_ba.nodes[node]['sector'] = hubs_rank[j]\n",
    "    j+=1"
   ]
  },
  {
   "cell_type": "code",
   "execution_count": null,
   "metadata": {},
   "outputs": [],
   "source": [
    "for node in new_ba.nodes not in higher17:\n",
    "    "
   ]
  }
 ],
 "metadata": {
  "kernelspec": {
   "display_name": "Python 3",
   "language": "python",
   "name": "python3"
  },
  "language_info": {
   "codemirror_mode": {
    "name": "ipython",
    "version": 3
   },
   "file_extension": ".py",
   "mimetype": "text/x-python",
   "name": "python",
   "nbconvert_exporter": "python",
   "pygments_lexer": "ipython3",
   "version": "3.6.5"
  }
 },
 "nbformat": 4,
 "nbformat_minor": 2
}
